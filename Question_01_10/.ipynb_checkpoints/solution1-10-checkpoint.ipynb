{
 "cells": [
  {
   "cell_type": "markdown",
   "metadata": {},
   "source": [
    "# 画像処理100本ノック\n",
    "---\n",
    "- yoyoyo-yoさんの[画像処理100本ノック](https://github.com/yoyoyo-yo/Gasyori100knock)を用いて学習する．"
   ]
  },
  {
   "cell_type": "code",
   "execution_count": 73,
   "metadata": {},
   "outputs": [],
   "source": [
    "import cv2\n",
    "import numpy as np\n",
    "\n",
    "img = cv2.imread(\"imori.jpg\")"
   ]
  },
  {
   "cell_type": "markdown",
   "metadata": {},
   "source": [
    "## Q. 1-10\n",
    "---\n",
    "\n",
    "### Q.1. チャネル入れ替え\n",
    "画像を読み込み、RGBをBGRの順に入れ替えよ。"
   ]
  },
  {
   "cell_type": "code",
   "execution_count": 37,
   "metadata": {},
   "outputs": [
    {
     "data": {
      "text/plain": [
       "3"
      ]
     },
     "execution_count": 37,
     "metadata": {},
     "output_type": "execute_result"
    }
   ],
   "source": [
    "len(img[0][0])  # 128 * 128"
   ]
  },
  {
   "cell_type": "code",
   "execution_count": 41,
   "metadata": {},
   "outputs": [],
   "source": [
    "def change_red_and_blue(img):\n",
    "    ans = img.copy()  # 参照の値渡し防止\n",
    "    b = img[:, :, 0].copy()\n",
    "    g = img[:, :, 1].copy()\n",
    "    r = img[:, :, 2].copy()\n",
    "    ans[:, :, 0] = r\n",
    "    ans[:, :, 2] = b\n",
    "    return ans"
   ]
  },
  {
   "cell_type": "code",
   "execution_count": 40,
   "metadata": {},
   "outputs": [
    {
     "data": {
      "text/plain": [
       "True"
      ]
     },
     "execution_count": 40,
     "metadata": {},
     "output_type": "execute_result"
    }
   ],
   "source": [
    "cv2.imwrite('out_1.jpg', change_red_and_blue(img))"
   ]
  },
  {
   "cell_type": "markdown",
   "metadata": {},
   "source": [
    "### Q.2. グレースケール化\n",
    "画像をグレースケールにせよ。 グレースケールとは、画像の輝度表現方法の一種であり下式で計算される。\n",
    "\n",
    "$Y = 0.2126 R + 0.7152 G + 0.0722 B$"
   ]
  },
  {
   "cell_type": "code",
   "execution_count": 56,
   "metadata": {},
   "outputs": [],
   "source": [
    "def gray_scaled(img):\n",
    "    ans = img.copy()\n",
    "    out = 0.2126 * (np.array(ans[:, :, 2])).astype(np.uint8) + (0.7152 * np.array(ans[:, :, 1])).astype(np.uint8) + (0.0722 * np.array(ans[:, :, 0])).astype(np.uint8)\n",
    "    return out"
   ]
  },
  {
   "cell_type": "code",
   "execution_count": 57,
   "metadata": {},
   "outputs": [
    {
     "data": {
      "text/plain": [
       "True"
      ]
     },
     "execution_count": 57,
     "metadata": {},
     "output_type": "execute_result"
    }
   ],
   "source": [
    "cv2.imwrite('out_2.jpg', gray_scaled(img))"
   ]
  },
  {
   "cell_type": "markdown",
   "metadata": {},
   "source": [
    "### Q.3. 二値化\n",
    "画像を二値化せよ。 二値化とは、画像を黒と白の二値で表現する方法である。 ここでは、グレースケールにおいて閾値を128に設定し、下式で二値化する。\n",
    "```\n",
    "y = { 0 (if y < 128)\n",
    "     255 (else) \n",
    "```"
   ]
  },
  {
   "cell_type": "code",
   "execution_count": 76,
   "metadata": {},
   "outputs": [],
   "source": [
    "def binary_img(img):\n",
    "    i = img.copy()\n",
    "    return np.where(i < 128, 0, 255)"
   ]
  },
  {
   "cell_type": "code",
   "execution_count": 77,
   "metadata": {},
   "outputs": [
    {
     "data": {
      "text/plain": [
       "True"
      ]
     },
     "execution_count": 77,
     "metadata": {},
     "output_type": "execute_result"
    }
   ],
   "source": [
    "cv2.imwrite('out_3.jpg', binary_img(gray_scaled(img)))"
   ]
  },
  {
   "cell_type": "markdown",
   "metadata": {},
   "source": [
    "### Q.4. 大津の二値化\n",
    "大津の二値化を実装せよ。 大津の二値化とは判別分析法と呼ばれ、二値化における分離の閾値を自動決定する手法である。 これはクラス内分散とクラス間分散の比から計算される。\n",
    "\n",
    "- 閾値t未満をクラス0, t以上をクラス1とする。\n",
    "- w0, w1 ... 閾値tにより分離された各クラスの画素数の割合 (w0 + w1 = 1を満たす)\n",
    "- S0^2, S1^2 ... 各クラスの画素値の分散\n",
    "- M0, M1 ... 各クラスの画素値の平均値\n",
    "\n",
    "とすると、\n",
    "\n",
    "```\n",
    "クラス内分散 Sw^2 = w0 * S0^2 + w1 * S1^2\n",
    "クラス間分散 Sb^2 = w0 * (M0 - Mt)^2 + w1 * (M1 - Mt)^2 = w0 * w1 * (M0 - M1) ^2\n",
    "画像全体の画素の分散 St^2 = Sw^2 + Sb^2 = (const)\n",
    "以上より、分離度は次式で定義される。\n",
    "分離度 X = Sb^2 / Sw^2 = Sb^2 / (St^2 - Sb^2)\n",
    "```\n",
    "\n",
    "となるので，\n",
    "\n",
    "$argmax_{t} X = argmax_{t} Sb^2$\n",
    "\n",
    "となる。すなわち、Sb^2 = w0 * w1 * (M0 - M1) ^2 が最大となる、閾値tを二値化の閾値とすれば良い。"
   ]
  },
  {
   "cell_type": "code",
   "execution_count": 78,
   "metadata": {},
   "outputs": [],
   "source": [
    "def binarization(img: list):\n",
    "    \n",
    "    i = img.copy()\n",
    "    H, W, C = i.shape\n",
    "    \n",
    "    out = gray_scaled(i)\n",
    "    \n",
    "    max_sigma = 0\n",
    "    max_t = 0\n",
    "    for _t in range(1, 255):\n",
    "        v0 = out[np.where(out < _t)]\n",
    "        m0 = np.mean(v0) if len(v0) > 0 else 0.\n",
    "        w0 = len(v0) / (H * W)\n",
    "        v1 = out[np.where(out >= _t)]\n",
    "        m1 = np.mean(v1) if len(v1) > 0 else 0.\n",
    "        w1 = len(v1) / (H * W)\n",
    "        sigma = w0 * w1 * ((m0 - m1) ** 2)\n",
    "        if sigma > max_sigma:\n",
    "            max_sigma = sigma\n",
    "            max_t = _t\n",
    "    \n",
    "    # Binarization\n",
    "    print(\"threshold >>\", max_t)\n",
    "    th = max_t\n",
    "    out[out < th] = 0\n",
    "    out[out >= th] = 255\n",
    "    \n",
    "    return out"
   ]
  },
  {
   "cell_type": "code",
   "execution_count": 79,
   "metadata": {},
   "outputs": [
    {
     "name": "stdout",
     "output_type": "stream",
     "text": [
      "threshold >> 126\n"
     ]
    },
    {
     "data": {
      "text/plain": [
       "True"
      ]
     },
     "execution_count": 79,
     "metadata": {},
     "output_type": "execute_result"
    }
   ],
   "source": [
    "cv2.imwrite('out_4.jpg', binarization(img))"
   ]
  },
  {
   "cell_type": "markdown",
   "metadata": {},
   "source": [
    "### Q.5. HSV変換\n",
    "HSV変換を実装して、色相Hを反転せよ。\n",
    "\n",
    "HSV変換とは、Hue(色相)、Saturation(彩度)、Value(明度) で色を表現する手法である。\n",
    "\n",
    "- Hue ... 色合いを0~360度で表現し、赤や青など色の種類を示す。 ( 0 <= H < 360) 色相は次の色に対応する。\n",
    "\n",
    "```\n",
    "赤 黄色  緑  水色  青  紫   赤\n",
    "0  60  120  180 240 300 360\n",
    "```\n",
    "- Saturation ... 色の鮮やかさ。Saturationが低いと灰色さが顕著になり、くすんだ色となる。 ( 0<= S < 1)\n",
    "- Value ... 色の明るさ。Valueが高いほど白に近く、Valueが低いほど黒に近くなる。 ( 0 <= V < 1)\n",
    "\n",
    "RGB -> HSV変換は以下の式で定義される。\n",
    "\n",
    "R,G,Bが[0, 1]の範囲にあるとする。\n",
    "\n",
    "```\n",
    "Max = max(R,G,B)\n",
    "Min = min(R,G,B)\n",
    "\n",
    "H =  { 0                            (if Min=Max)\n",
    "       60 x (G-R) / (Max-Min) + 60  (if Min=B)\n",
    "       60 x (B-G) / (Max-Min) + 180 (if Min=R)\n",
    "       60 x (R-B) / (Max-Min) + 300 (if Min=G)\n",
    "       \n",
    "V = Max\n",
    "\n",
    "S = Max - Min\n",
    "```\n",
    "\n",
    "HSV -> RGB変換は以下の式で定義される。\n",
    "\n",
    "```\n",
    "C = S\n",
    "\n",
    "H' = H / 60\n",
    "\n",
    "X = C (1 - |H' mod 2 - 1|)\n",
    "\n",
    "(R,G,B) = (V - C) (1,1,1) + { (0, 0, 0)  (if H is undefined)\n",
    "                              (C, X, 0)  (if 0 <= H' < 1)\n",
    "                              (X, C, 0)  (if 1 <= H' < 2)\n",
    "                              (0, C, X)  (if 2 <= H' < 3)\n",
    "                              (0, X, C)  (if 3 <= H' < 4)\n",
    "                              (X, 0, C)  (if 4 <= H' < 5)\n",
    "                              (C, 0, X)  (if 5 <= H' < 6)\n",
    "```\n",
    "\n",
    "ここでは色相Hを反転(180を加算)し、RGBに直し画像を表示せよ。"
   ]
  },
  {
   "cell_type": "markdown",
   "metadata": {},
   "source": [
    "#### メモ:\n",
    "`np.where`は条件式に当てはまるインデックスを返す"
   ]
  },
  {
   "cell_type": "code",
   "execution_count": 97,
   "metadata": {},
   "outputs": [],
   "source": [
    "def rgb_to_hsv(img):\n",
    "    \n",
    "    im = np.array(img).astype(np.float32) / 255.\n",
    "    \n",
    "    out = np.zeros_like(im)\n",
    "    max_val = np.max(im, axis=2).copy()\n",
    "    min_val = np.min(im, axis=2).copy()\n",
    "    min_arg = np.argmin(im, axis=2)\n",
    "\n",
    "    H = np.zeros_like(max_val)\n",
    "    # if\n",
    "    H[np.where(max_val == min_val)] = 0\n",
    "    index_list = np.where(min_arg == 0)\n",
    "    H[index_list] = 60 * (im[..., 1][index_list] - im[..., 2][index_list]) / (max_val[index_list] - min_val[index_list]) + 60\n",
    "    index_list = np.where(min_arg == 2)\n",
    "    H[index_list] = 60 * (im[...,0][index_list] - im[...,1][index_list]) / (max_val[index_list] - min_val[index_list]) + 180\n",
    "    index_list = np.where(min_arg == 1)\n",
    "    H[index_list] = 60 * (im[...,2][index_list] - im[...,0][index_list]) / (max_val[index_list] - min_val[index_list]) + 300\n",
    "    \n",
    "    V = max_val.copy()\n",
    "    S = max_val.copy() - min_val.copy()\n",
    "    \n",
    "    # transpose hue\n",
    "    H = (H + 180) % 360\n",
    "    \n",
    "    out[...,0] = H\n",
    "    out[...,1] = S\n",
    "    out[...,2] = V\n",
    "\n",
    "    return out"
   ]
  },
  {
   "cell_type": "code",
   "execution_count": 103,
   "metadata": {},
   "outputs": [],
   "source": [
    "def hsv_to_rgb(hsv):\n",
    "    \n",
    "    hsv = np.array(hsv).astype(np.float32)\n",
    "    \n",
    "    out = np.zeros_like(hsv)\n",
    "    \n",
    "    C = hsv[...,1]\n",
    "    H_ = hsv[...,0] / 60\n",
    "    X = C * (1 - np.abs(H_ % 2 -1))\n",
    "    Z = np.zeros_like(hsv[...,0])\n",
    "    \n",
    "    vals = [[Z,X,C], [Z,C,X], [X,C,Z], [C,X,Z], [C,Z,X], [X,Z,C]]  # rgbはcv2ではbgrなので逆\n",
    "    \n",
    "    for i in range(6):\n",
    "        index_list = np.where((i <= H_) & (H_ < (i + 1)))\n",
    "        out[..., 0][index_list] = (hsv[..., 2] - C)[index_list] + vals[i][0][index_list]\n",
    "        out[..., 1][index_list] = (hsv[..., 2] - C)[index_list] + vals[i][1][index_list]\n",
    "        out[..., 2][index_list] = (hsv[..., 2] - C)[index_list] + vals[i][2][index_list]\n",
    "        \n",
    "    out[np.where(hsv[..., 2] == -(hsv[..., 1] - hsv[..., 2]))] = 0\n",
    "    out = (out * 255).astype(np.uint8)\n",
    "    \n",
    "    return out    "
   ]
  },
  {
   "cell_type": "code",
   "execution_count": 104,
   "metadata": {},
   "outputs": [
    {
     "data": {
      "text/plain": [
       "True"
      ]
     },
     "execution_count": 104,
     "metadata": {},
     "output_type": "execute_result"
    }
   ],
   "source": [
    "hsv = rgb_to_hsv(img)\n",
    "transposed_rgb = hsv_to_rgb(hsv)\n",
    "cv2.imwrite('out_5.jpg', transposed_rgb)"
   ]
  },
  {
   "cell_type": "markdown",
   "metadata": {},
   "source": [
    "### Q.6. 減色処理\n",
    "\n",
    "ここでは画像の値を256^3から4^3、すなわちR,G,B in {32, 96, 160, 224}の各4値に減色せよ。 これは量子化操作である。 各値に関して、以下の様に定義する。\n",
    "\n",
    "```\n",
    "val = {  32  (0 <= val < 63)\n",
    "         96  (63 <= val < 127)\n",
    "        160  (127 <= val < 191)\n",
    "        224  (191 <= val < 256)\n",
    "```"
   ]
  },
  {
   "cell_type": "code",
   "execution_count": 105,
   "metadata": {},
   "outputs": [],
   "source": [
    "def reduce_color(img):\n",
    "    out = np.array(img.copy()).astype(np.float32)\n",
    "    out = out // 64 * 64 + 32\n",
    "    \n",
    "    return out"
   ]
  },
  {
   "cell_type": "code",
   "execution_count": 106,
   "metadata": {},
   "outputs": [
    {
     "data": {
      "text/plain": [
       "True"
      ]
     },
     "execution_count": 106,
     "metadata": {},
     "output_type": "execute_result"
    }
   ],
   "source": [
    "cv2.imwrite('out_6.jpg', reduce_color(img))"
   ]
  },
  {
   "cell_type": "code",
   "execution_count": null,
   "metadata": {},
   "outputs": [],
   "source": []
  }
 ],
 "metadata": {
  "kernelspec": {
   "display_name": "Python 3",
   "language": "python",
   "name": "python3"
  },
  "language_info": {
   "codemirror_mode": {
    "name": "ipython",
    "version": 3
   },
   "file_extension": ".py",
   "mimetype": "text/x-python",
   "name": "python",
   "nbconvert_exporter": "python",
   "pygments_lexer": "ipython3",
   "version": "3.6.8"
  }
 },
 "nbformat": 4,
 "nbformat_minor": 2
}
